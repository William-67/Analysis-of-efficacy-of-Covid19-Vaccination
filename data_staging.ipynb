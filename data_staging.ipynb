{
 "cells": [
  {
   "cell_type": "markdown",
   "metadata": {},
   "source": [
    "# Create table"
   ]
  },
  {
   "cell_type": "markdown",
   "metadata": {},
   "source": [
    "***data dimension***"
   ]
  },
  {
   "cell_type": "code",
   "execution_count": 14,
   "metadata": {},
   "outputs": [],
   "source": [
    "import pandas as pd\n",
    "\n",
    "# Load your dataset\n",
    "data = pd.read_csv('final_result.csv')\n",
    "\n",
    "# Extract unique dates and corresponding month and year\n",
    "date_dimension = data[['date']].copy()\n",
    "date_dimension = date_dimension.drop_duplicates()\n",
    "date_dimension['dateID'] = range(1, len(date_dimension) + 1)\n",
    "date_dimension['date'] = pd.to_datetime(date_dimension['date'])\n",
    "date_dimension['month'] = date_dimension['date'].dt.strftime('%B')\n",
    "date_dimension['year'] = date_dimension['date'].dt.year\n",
    "\n",
    "# Select required columns for the data dimension\n",
    "date_dimension = date_dimension[['dateID', 'date', 'month', 'year']]\n",
    "\n",
    "# Save the date dimension to a new CSV file\n",
    "date_dimension.to_csv('date_dimension.csv', index=False)\n"
   ]
  },
  {
   "cell_type": "markdown",
   "metadata": {},
   "source": [
    "***province dimension***"
   ]
  },
  {
   "cell_type": "code",
   "execution_count": 15,
   "metadata": {},
   "outputs": [],
   "source": [
    "import pandas as pd\n",
    "\n",
    "# Load your dataset\n",
    "data = pd.read_csv('final_result.csv')\n",
    "\n",
    "# Extract unique provinces\n",
    "province_dimension = data[['province', 'prname']].drop_duplicates()\n",
    "\n",
    "\n",
    "# Save the province dimension to a new CSV file\n",
    "province_dimension.to_csv('province_dimension.csv', index=False)\n"
   ]
  },
  {
   "cell_type": "markdown",
   "metadata": {},
   "source": [
    "***Vaccination dimension***"
   ]
  },
  {
   "cell_type": "code",
   "execution_count": 16,
   "metadata": {},
   "outputs": [],
   "source": [
    "import pandas as pd\n",
    "\n",
    "# Load your dataset\n",
    "data = pd.read_csv('final_result.csv')\n",
    "\n",
    "# Extract necessary columns for the Vaccination Dimension\n",
    "vaccination_dimension = data[['date', 'province', 'partial', 'fully', 'booster']].copy()\n",
    "\n",
    "# Load Province Dimension for Foreign Key\n",
    "province_dimension = pd.read_csv('province_dimension.csv')\n",
    "\n",
    "# Merge Province Dimension to get ProvinceID\n",
    "vaccination_dimension = vaccination_dimension.merge(province_dimension, how='left', left_on='province', right_on='province')\n",
    "\n",
    "# Drop redundant columns\n",
    "vaccination_dimension.drop(['prname'], axis=1, inplace=True)\n",
    "\n",
    "vaccination_dimension['vacID'] = range(1, len(vaccination_dimension) + 1)\n",
    "\n",
    "vaccination_dimension = vaccination_dimension[['vacID','date', 'province', 'partial', 'fully', 'booster']].drop_duplicates()\n",
    "\n",
    "# Save the Vaccination Dimension to a new CSV file\n",
    "vaccination_dimension.to_csv('vaccination_dimension.csv', index=False)\n"
   ]
  },
  {
   "cell_type": "markdown",
   "metadata": {},
   "source": [
    "***Covid19 Metric dimension***"
   ]
  },
  {
   "cell_type": "code",
   "execution_count": 17,
   "metadata": {},
   "outputs": [],
   "source": [
    "import pandas as pd\n",
    "\n",
    "# Load your dataset\n",
    "data = pd.read_csv('final_result.csv')\n",
    "\n",
    "# Extract necessary columns for the COVID19 Metrics Dimension\n",
    "covid_dimension = data[['date', 'province', 'totalcases', 'numdeaths', 'recovery']].copy()\n",
    "\n",
    "# Load Date Dimension for Foreign Key\n",
    "date_dimension = pd.read_csv('date_dimension.csv')\n",
    "\n",
    "# Merge Date Dimension to get DateID\n",
    "covid_dimension = covid_dimension.merge(date_dimension, how='left', left_on='date', right_on='date')\n",
    "\n",
    "# # Drop redundant columns\n",
    "# covid_dimension.drop(['date'], axis=1, inplace=True)\n",
    "\n",
    "covid_dimension['covidID'] = range(1, len(covid_dimension) + 1)\n",
    "\n",
    "covid_dimension = covid_dimension[['covidID', 'dateID','province', 'totalcases', 'numdeaths', 'recovery']].drop_duplicates()\n",
    "\n",
    "# Save the COVID19 Metrics Dimension to a new CSV file\n",
    "covid_dimension.to_csv('covid19_metrics_dimension.csv', index=False)\n"
   ]
  }
 ],
 "metadata": {
  "kernelspec": {
   "display_name": "Python 3",
   "language": "python",
   "name": "python3"
  },
  "language_info": {
   "codemirror_mode": {
    "name": "ipython",
    "version": 3
   },
   "file_extension": ".py",
   "mimetype": "text/x-python",
   "name": "python",
   "nbconvert_exporter": "python",
   "pygments_lexer": "ipython3",
   "version": "3.11.5"
  }
 },
 "nbformat": 4,
 "nbformat_minor": 2
}
