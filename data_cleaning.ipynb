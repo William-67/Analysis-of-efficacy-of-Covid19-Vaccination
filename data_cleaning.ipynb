{
 "cells": [
  {
   "cell_type": "markdown",
   "metadata": {},
   "source": [
    "This file is dealing for recovery data\n",
    "Since recovery data have to be done in different csv files.\n",
    "This Jupyter file is used to combine all recovery data from different provinces into one"
   ]
  },
  {
   "cell_type": "markdown",
   "metadata": {},
   "source": [
    "We will joining the following data from these table:\n",
    "covid19-download.csv: \n",
    "\n",
    "**totalcases, numdeaths**\n",
    "\n",
    "For other 13 table from different provinces: \n",
    "\n",
    "**data » total_recoveries**\n",
    "\n",
    "**data » total_vaccinations**       \n",
    "\n",
    "**data » total_vaccinated**     \n",
    "\n",
    "**data » total_boosters_1** "
   ]
  },
  {
   "cell_type": "code",
   "execution_count": 1,
   "metadata": {},
   "outputs": [],
   "source": [
    "# !pip install pandas\n",
    "import pandas as pd"
   ]
  },
  {
   "cell_type": "code",
   "execution_count": 8,
   "metadata": {},
   "outputs": [],
   "source": [
    "# Read the csv file into a pandas dataframe\n",
    "# url = 'https://github.com/William-67/CSI4142_Group15/blob/main/COVID19Tracker.ca%20Data%20-%20'\n",
    "ab = pd.read_csv('COVID19Tracker.ca Data - AB.csv')\n",
    "bc = pd.read_csv('COVID19Tracker.ca Data - BC.csv')\n",
    "mb = pd.read_csv('COVID19Tracker.ca Data - MB.csv')\n",
    "nb = pd.read_csv('COVID19Tracker.ca Data - NB.csv')\n",
    "nl = pd.read_csv('COVID19Tracker.ca Data - NL.csv')\n",
    "ns = pd.read_csv('COVID19Tracker.ca Data - NS.csv')\n",
    "nt = pd.read_csv('COVID19Tracker.ca Data - NT.csv')\n",
    "nu = pd.read_csv('COVID19Tracker.ca Data - NU.csv')\n",
    "on = pd.read_csv('COVID19Tracker.ca Data - ON.csv')\n",
    "pe = pd.read_csv('COVID19Tracker.ca Data - PE.csv')\n",
    "sk = pd.read_csv('COVID19Tracker.ca Data - SK.csv')\n",
    "qc = pd.read_csv('COVID19Tracker.ca Data - QC.csv')\n",
    "yt = pd.read_csv('COVID19Tracker.ca Data - YT.csv')\n",
    "df = pd.read_csv('covid19-download.csv')"
   ]
  },
  {
   "cell_type": "code",
   "execution_count": 5,
   "metadata": {},
   "outputs": [
    {
     "data": {
      "text/plain": [
       "province                              object\n",
       "last_updated                          object\n",
       "data » date                           object\n",
       "data » change_cases                    int64\n",
       "data » change_fatalities               int64\n",
       "data » change_tests                    int64\n",
       "data » change_hospitalizations         int64\n",
       "data » change_criticals                int64\n",
       "data » change_recoveries               int64\n",
       "data » change_vaccinations             int64\n",
       "data » change_vaccinated               int64\n",
       "data » change_boosters_1               int64\n",
       "data » change_boosters_2               int64\n",
       "data » change_vaccines_distributed     int64\n",
       "data » total_cases                     int64\n",
       "data » total_fatalities                int64\n",
       "data » total_tests                     int64\n",
       "data » total_hospitalizations          int64\n",
       "data » total_criticals                 int64\n",
       "data » total_recoveries                int64\n",
       "data » total_vaccinations              int64\n",
       "data » total_vaccinated                int64\n",
       "data » total_boosters_1                int64\n",
       "data » total_boosters_2                int64\n",
       "data » total_vaccines_distributed      int64\n",
       "dtype: object"
      ]
     },
     "execution_count": 5,
     "metadata": {},
     "output_type": "execute_result"
    }
   ],
   "source": [
    "#test \n",
    "ab.dtypes"
   ]
  },
  {
   "cell_type": "markdown",
   "metadata": {},
   "source": [
    "Only Select recovery data"
   ]
  },
  {
   "cell_type": "code",
   "execution_count": null,
   "metadata": {},
   "outputs": [],
   "source": [
    "origin_list = [ab,bc,mb,nb,nl,ns,nt,nu,on,pe,sk,qc,yt]\n",
    "modify_list = []\n",
    "for province in origin_list:\n",
    "    temp = province[[\"data » date\",,\"data » total_recoveries\",\"data » total_vaccinations\",\"data » total_vaccinated\",\"data » total_boosters_1\"]]\n",
    "    temp = temp.rename({'data » date':'date','data » total_recoveries': 'recovery'})\n",
    "    temp = temp.rename({'data » total_vaccinations':'partial'})\n",
    "    temp = temp.rename({'data » total_vaccinated':'full'})\n",
    "    temp = temp.rename({'data » total_boosters_1':'booster'})\n",
    "    recovery_list.append(temp)\n",
    "recovery_\n"
   ]
  },
  {
   "cell_type": "code",
   "execution_count": null,
   "metadata": {},
   "outputs": [],
   "source": []
  },
  {
   "cell_type": "code",
   "execution_count": null,
   "metadata": {},
   "outputs": [],
   "source": []
  }
 ],
 "metadata": {
  "kernelspec": {
   "display_name": "Python 3",
   "language": "python",
   "name": "python3"
  },
  "language_info": {
   "codemirror_mode": {
    "name": "ipython",
    "version": 3
   },
   "file_extension": ".py",
   "mimetype": "text/x-python",
   "name": "python",
   "nbconvert_exporter": "python",
   "pygments_lexer": "ipython3",
   "version": "3.11.5"
  }
 },
 "nbformat": 4,
 "nbformat_minor": 2
}
