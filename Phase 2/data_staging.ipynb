{
 "cells": [
  {
   "cell_type": "markdown",
   "metadata": {},
   "source": [
    "# Create table"
   ]
  },
  {
   "cell_type": "markdown",
   "metadata": {},
   "source": [
    "***data dimension***"
   ]
  },
  {
   "cell_type": "code",
   "execution_count": 62,
   "metadata": {},
   "outputs": [],
   "source": [
    "import pandas as pd\n",
    "\n",
    "# Load your dataset\n",
    "data = pd.read_csv('final_result.csv')\n",
    "\n",
    "# Extract unique dates and corresponding month and year\n",
    "date_dimension = data[['date']].copy()\n",
    "date_dimension = date_dimension.drop_duplicates()\n",
    "date_dimension['dateID'] = range(1, len(date_dimension) + 1)\n",
    "date_dimension['date'] = pd.to_datetime(date_dimension['date'])\n",
    "date_dimension['month'] = date_dimension['date'].dt.strftime('%B')\n",
    "date_dimension['year'] = date_dimension['date'].dt.year\n",
    "\n",
    "# Select required columns for the data dimension\n",
    "date_dimension = date_dimension[['dateID', 'date', 'month', 'year']]\n",
    "\n",
    "# Save the date dimension to a new CSV file\n",
    "date_dimension.to_csv('date_dimension.csv', index=False)\n"
   ]
  },
  {
   "cell_type": "markdown",
   "metadata": {},
   "source": [
    "***province dimension***"
   ]
  },
  {
   "cell_type": "code",
   "execution_count": 63,
   "metadata": {},
   "outputs": [],
   "source": [
    "import pandas as pd\n",
    "\n",
    "# Load your dataset\n",
    "data = pd.read_csv('final_result.csv')\n",
    "\n",
    "# Extract unique provinces\n",
    "province_dimension = data[['province', 'prname']].drop_duplicates()\n",
    "\n",
    "\n",
    "# Save the province dimension to a new CSV file\n",
    "province_dimension.to_csv('province_dimension.csv', index=False)\n"
   ]
  },
  {
   "cell_type": "markdown",
   "metadata": {},
   "source": [
    "***Vaccination dimension***"
   ]
  },
  {
   "cell_type": "code",
   "execution_count": 64,
   "metadata": {},
   "outputs": [],
   "source": [
    "import pandas as pd\n",
    "\n",
    "# Load your dataset\n",
    "data = pd.read_csv('final_result.csv')\n",
    "\n",
    "# Extract necessary columns for the Vaccination Dimension\n",
    "vaccination_dimension = data[['date', 'province', 'partial', 'fully', 'booster']].copy()\n",
    "\n",
    "# Load Province Dimension for Foreign Key\n",
    "province_dimension = pd.read_csv('province_dimension.csv')\n",
    "\n",
    "# Merge Province Dimension to get ProvinceID\n",
    "vaccination_dimension = vaccination_dimension.merge(province_dimension, how='left', left_on='province', right_on='province')\n",
    "\n",
    "\n",
    "date_dimension = pd.read_csv('date_dimension.csv')\n",
    "# Merge Province Dimension to get dateID\n",
    "vaccination_dimension = vaccination_dimension.merge(date_dimension, how='left', left_on='date', right_on='date')\n",
    "\n",
    "# Drop redundant columns\n",
    "vaccination_dimension.drop(['prname','date'], axis=1, inplace=True)\n",
    "\n",
    "vaccination_dimension['vacID'] = range(1, len(vaccination_dimension) + 1)\n",
    "\n",
    "vaccination_dimension = vaccination_dimension[['vacID','dateID', 'province', 'partial', 'fully', 'booster']].drop_duplicates()\n",
    "\n",
    "# Save the Vaccination Dimension to a new CSV file\n",
    "vaccination_dimension.to_csv('vaccination_dimension.csv', index=False)\n"
   ]
  },
  {
   "cell_type": "markdown",
   "metadata": {},
   "source": [
    "***Covid19 Metric dimension***"
   ]
  },
  {
   "cell_type": "code",
   "execution_count": 65,
   "metadata": {},
   "outputs": [],
   "source": [
    "import pandas as pd\n",
    "\n",
    "# Load your dataset\n",
    "data = pd.read_csv('final_result.csv')\n",
    "\n",
    "# Extract necessary columns for the COVID19 Metrics Dimension\n",
    "covid_dimension = data[['date', 'province', 'totalcases', 'numdeaths', 'recovery']].copy()\n",
    "\n",
    "# Load Date Dimension for Foreign Key\n",
    "date_dimension = pd.read_csv('date_dimension.csv')\n",
    "\n",
    "# Merge Date Dimension to get DateID\n",
    "covid_dimension = covid_dimension.merge(date_dimension, how='left', left_on='date', right_on='date')\n",
    "\n",
    "# # Drop redundant columns\n",
    "# covid_dimension.drop(['date'], axis=1, inplace=True)\n",
    "\n",
    "covid_dimension['covidID'] = range(1, len(covid_dimension) + 1)\n",
    "\n",
    "covid_dimension = covid_dimension[['covidID', 'dateID','province', 'totalcases', 'numdeaths', 'recovery']].drop_duplicates()\n",
    "\n",
    "# Save the COVID19 Metrics Dimension to a new CSV file\n",
    "covid_dimension.to_csv('covid19_metrics_dimension.csv', index=False)\n"
   ]
  },
  {
   "cell_type": "markdown",
   "metadata": {},
   "source": [
    "# SQL create"
   ]
  },
  {
   "cell_type": "markdown",
   "metadata": {},
   "source": [
    "date dimension"
   ]
  },
  {
   "cell_type": "code",
   "execution_count": 66,
   "metadata": {},
   "outputs": [],
   "source": [
    "import csv\n",
    "\n",
    "# Define your CSV file path\n",
    "csv_file_path = 'date_dimension.csv'\n",
    "\n",
    "date_create_table_statement = \"\"\"\n",
    "CREATE TABLE DateDimension (\n",
    "    dateID INTEGER PRIMARY KEY,\n",
    "    date DATE,\n",
    "    month VARCHAR(20),\n",
    "    year INTEGER\n",
    ");\n",
    "\"\"\"\n",
    "\n",
    "# Read data from the CSV file and store it in a list of tuples\n",
    "data_list = []\n",
    "with open(csv_file_path, 'r') as csv_file:\n",
    "    csv_reader = csv.reader(csv_file)\n",
    "    for row in csv_reader:\n",
    "        # Assuming each row in the CSV corresponds to one tuple of data\n",
    "        data_list.append(tuple(row))\n",
    "\n",
    "# Generate SQL insert statements\n",
    "date_insert_statements = []\n",
    "count = 0\n",
    "for row in data_list:\n",
    "    if count == 0:\n",
    "        count = 1\n",
    "        continue\n",
    "    values = ', '.join([f\"'{str(value)}'\" if isinstance(value, str) else str(value) for value in row])\n",
    "    date_insert_statements.append(f\"INSERT INTO DateDimension VALUES ({values});\")"
   ]
  },
  {
   "cell_type": "markdown",
   "metadata": {},
   "source": [
    "province dimension"
   ]
  },
  {
   "cell_type": "code",
   "execution_count": 67,
   "metadata": {},
   "outputs": [],
   "source": [
    "import csv\n",
    "\n",
    "# Define your CSV file path\n",
    "csv_file_path = 'province_dimension.csv'\n",
    "\n",
    "pro_create_table_statement = \"\"\"\n",
    "CREATE TABLE ProvinceDimension (\n",
    "    province VARCHAR(2) PRIMARY KEY,\n",
    "    prname VARCHAR(50)\n",
    ");\n",
    "\"\"\"\n",
    "\n",
    "# Read data from the CSV file and store it in a list of tuples\n",
    "data_list = []\n",
    "with open(csv_file_path, 'r') as csv_file:\n",
    "    csv_reader = csv.reader(csv_file)\n",
    "    for row in csv_reader:\n",
    "        # Assuming each row in the CSV corresponds to one tuple of data\n",
    "        data_list.append(tuple(row))\n",
    "\n",
    "# Generate SQL insert statements\n",
    "pro_insert_statements = []\n",
    "count = 0\n",
    "for row in data_list:\n",
    "    if count == 0:\n",
    "        count = 1\n",
    "        continue\n",
    "    values = ', '.join([f\"'{str(value)}'\" if isinstance(value, str) else str(value) for value in row])\n",
    "    pro_insert_statements.append(f\"INSERT INTO ProvinceDimension VALUES ({values});\")\n"
   ]
  },
  {
   "cell_type": "markdown",
   "metadata": {},
   "source": [
    "vaccination dimension"
   ]
  },
  {
   "cell_type": "code",
   "execution_count": 68,
   "metadata": {},
   "outputs": [],
   "source": [
    "import csv\n",
    "\n",
    "# Define your CSV file path\n",
    "csv_file_path = 'vaccination_dimension.csv'\n",
    "\n",
    "vac_create_table_statement = \"\"\"\n",
    "CREATE TABLE VaccinationDimension (\n",
    "    vacID INTEGER PRIMARY KEY,\n",
    "    dateID INTEGER,\n",
    "    province VARCHAR(50),\n",
    "    partial INTEGER,\n",
    "    fully INTEGER,\n",
    "    booster INTEGER,\n",
    "    FOREIGN KEY (dateID) REFERENCES DateDimension(dateID),\n",
    "    FOREIGN KEY (province) REFERENCES ProvinceDimension(province)\n",
    ");\n",
    "\"\"\"\n",
    "\n",
    "# Read data from the CSV file and store it in a list of tuples\n",
    "data_list = []\n",
    "with open(csv_file_path, 'r') as csv_file:\n",
    "    csv_reader = csv.reader(csv_file)\n",
    "    for row in csv_reader:\n",
    "        # Assuming each row in the CSV corresponds to one tuple of data\n",
    "        data_list.append(tuple(row))\n",
    "\n",
    "# Generate SQL insert statements\n",
    "vac_insert_statements = []\n",
    "count = 0\n",
    "for row in data_list:\n",
    "    if count == 0:\n",
    "        count = 1\n",
    "        continue\n",
    "    values = ', '.join([f\"'{str(value)}'\" if isinstance(value, str) else str(value) for value in row])\n",
    "    vac_insert_statements.append(f\"INSERT INTO VaccinationDimension VALUES ({values});\")\n"
   ]
  },
  {
   "cell_type": "markdown",
   "metadata": {},
   "source": [
    "Covid Metric Dimension"
   ]
  },
  {
   "cell_type": "code",
   "execution_count": 69,
   "metadata": {},
   "outputs": [],
   "source": [
    "import csv\n",
    "\n",
    "# Define your CSV file path\n",
    "csv_file_path = 'covid19_metrics_dimension.csv'\n",
    "\n",
    "cov_create_table_statement = \"\"\"\n",
    "CREATE TABLE COVID19MetricsDimension (\n",
    "    covidID INTEGER PRIMARY KEY,\n",
    "    dateID INTEGER,\n",
    "    province VARCHAR(50),\n",
    "    totalCases INTEGER,\n",
    "    numDeaths INTEGER,\n",
    "    recovery INTEGER,\n",
    "    FOREIGN KEY (dateID) REFERENCES DateDimension(dateID),\n",
    "    FOREIGN KEY (province) REFERENCES ProvinceDimension(province)\n",
    ");\n",
    "\"\"\"\n",
    "\n",
    "# Read data from the CSV file and store it in a list of tuples\n",
    "data_list = []\n",
    "with open(csv_file_path, 'r') as csv_file:\n",
    "    csv_reader = csv.reader(csv_file)\n",
    "    for row in csv_reader:\n",
    "        # Assuming each row in the CSV corresponds to one tuple of data\n",
    "        data_list.append(tuple(row))\n",
    "\n",
    "# Generate SQL insert statements\n",
    "cov_insert_statements = []\n",
    "count = 0\n",
    "for row in data_list:\n",
    "    if count == 0:\n",
    "        count = 1\n",
    "        continue\n",
    "    values = ', '.join([f\"'{str(value)}'\" if isinstance(value, str) else str(value) for value in row])\n",
    "    cov_insert_statements.append(f\"INSERT INTO COVID19MetricsDimension VALUES ({values});\")\n"
   ]
  },
  {
   "cell_type": "code",
   "execution_count": 70,
   "metadata": {},
   "outputs": [],
   "source": [
    "create_table_statement = \"\"\"\n",
    "CREATE TABLE FactTable (\n",
    "    dateID INTEGER,\n",
    "    vacID INTEGER,\n",
    "    covidID INTEGER,\n",
    "    province VARCHAR(2),\n",
    "    resolved INTEGER,\n",
    "    death INTEGER,\n",
    "    PRIMARY KEY (dateID, vacID, covidID, province),\n",
    "    FOREIGN KEY (dateID) REFERENCES DateDimension(dateID),\n",
    "    FOREIGN KEY (vacID) REFERENCES VaccinationDimension(vacID),\n",
    "    FOREIGN KEY (covidID) REFERENCES COVID19MetricsDimension(covidID),\n",
    "    FOREIGN KEY (province) REFERENCES ProvinceDimension(province)\n",
    ");\n",
    "\"\"\"\n",
    "\n",
    "insert_statements = \"\"\"\n",
    "INSERT INTO FactTable (DateID, VacID, CovidID, Province, Resolved, Death)\n",
    "SELECT\n",
    "    dd.DateID,\n",
    "    vd.VacID,\n",
    "    cmd.CovidID,\n",
    "    pd.Province,\n",
    "    cmd.Recovery AS Resolved,\n",
    "    cmd.NumDeaths AS Death\n",
    "FROM\n",
    "    DateDimension dd\n",
    "    JOIN VaccinationDimension vd ON dd.DateID = vd.DateID\n",
    "    JOIN COVID19MetricsDimension cmd ON dd.DateID = cmd.DateID AND vd.Province = cmd.Province\n",
    "    JOIN ProvinceDimension pd ON vd.Province = pd.Province;\"\"\""
   ]
  },
  {
   "cell_type": "code",
   "execution_count": 71,
   "metadata": {},
   "outputs": [],
   "source": [
    "with open('dimension_creating.sql', 'w') as f:\n",
    "\n",
    "    f.write('\\n')\n",
    "    f.write(date_create_table_statement)\n",
    "    f.write('\\n')\n",
    "    f.write(pro_create_table_statement)\n",
    "    f.write('\\n')\n",
    "    f.write(cov_create_table_statement)\n",
    "    f.write('\\n')\n",
    "    f.write(vac_create_table_statement)\n",
    "    f.write('\\n')\n",
    "    f.write(create_table_statement)\n",
    "\n",
    "    for data in date_insert_statements:\n",
    "        f.write(data + '\\n')\n",
    "    for data in pro_insert_statements:\n",
    "        f.write(data + '\\n')\n",
    "    for data in cov_insert_statements:\n",
    "        f.write(data + '\\n')\n",
    "    for data in vac_insert_statements:\n",
    "        f.write(data + '\\n')\n",
    "    f.write(insert_statements + '\\n')"
   ]
  },
  {
   "cell_type": "code",
   "execution_count": null,
   "metadata": {},
   "outputs": [],
   "source": []
  },
  {
   "cell_type": "code",
   "execution_count": null,
   "metadata": {},
   "outputs": [],
   "source": []
  }
 ],
 "metadata": {
  "kernelspec": {
   "display_name": "Python 3",
   "language": "python",
   "name": "python3"
  },
  "language_info": {
   "codemirror_mode": {
    "name": "ipython",
    "version": 3
   },
   "file_extension": ".py",
   "mimetype": "text/x-python",
   "name": "python",
   "nbconvert_exporter": "python",
   "pygments_lexer": "ipython3",
   "version": "3.11.5"
  }
 },
 "nbformat": 4,
 "nbformat_minor": 2
}
